{
 "cells": [
  {
   "cell_type": "code",
   "execution_count": 2,
   "metadata": {},
   "outputs": [],
   "source": [
    "from numpy import cumsum, log, polyfit, sqrt, std, subtract\n",
    "from numpy.random import randn\n",
    "import pandas as pd"
   ]
  },
  {
   "cell_type": "code",
   "execution_count": 46,
   "metadata": {},
   "outputs": [
    {
     "name": "stdout",
     "output_type": "stream",
     "text": [
      "504\n"
     ]
    }
   ],
   "source": [
    "df = pd.read_csv(\"shots_data.csv\")\n",
    "\n",
    "rows = len(df.index)\n",
    "cols = 1\n",
    "arr=[]\n",
    "arr2 = [[],[]]\n",
    "arr3 = [[], []]\n",
    "for i in range(rows):\n",
    "    col = []\n",
    "    for j in range(cols):\n",
    "        col.append(df.iloc[j][\"x\"])\n",
    "        col.append(df.iloc[j][\"y\"])\n",
    "    arr.append(col)\n",
    "# Python implementation of above approach\n",
    "def getPointsIns(x1, y1, radius, x2, y2, points):\n",
    "\t# Stores the count of ans\n",
    "\tans = 0\n",
    "\n",
    "\t# Traverse the array\n",
    "\tfor point in points:\n",
    "\n",
    "\t\t# Stores if a point lies\n",
    "\t\t# above the diameter or not\n",
    "\t\tcondOne = (point[1] - y2) * (x2 - x1) \\\n",
    "\t\t\t\t- (y2 - y1) * (point[0] - x2) >= 0\n",
    "\n",
    "\t\t# Stores if the R is less than or\n",
    "\t\t# equal to the distance between\n",
    "\t\t# center and point\n",
    "\n",
    "\t\tcondTwo = radius >= ((y1 - point[1]) ** 2 \\\n",
    "\t\t\t\t+ (x1 - point[0]) ** 2) ** (0.5)\n",
    "\n",
    "\t\tif (condOne and condTwo):\n",
    "\t\t\tans += 1\n",
    "\t\t\tarr2.append([point[0], point[1]])\n",
    "\treturn ans\n",
    "\n",
    "\n",
    "# Driver Code\n",
    "# Input\n",
    "X = -22.0\n",
    "Y = 7.8\n",
    "R = 30.0\n",
    "P = 22.0\n",
    "Q = 7.8\n",
    "\n",
    "\n",
    "    \n",
    "\n",
    "\n",
    "print(getPointsIns(X, Y, R, P, Q, arr))\n",
    "\n",
    "arr2 = list(filter(None,arr2))\n",
    "\n",
    "twopt = pd.DataFrame(arr2, columns=['x','y'])\n",
    "\n",
    "two_pointers_made = {\n",
    "    \"Team_AFGA\": 0,\n",
    "    \"Team_AFGM\": 0,\n",
    "    \"Team_BFGA\": 0,\n",
    "    \"Team_BFGM\": 0\n",
    "}\n",
    "\n",
    "C3 = {\n",
    "    \"Team_AFGA\": 0,\n",
    "    \"Team_AFGM\": 0,\n",
    "    \"Team_BFGA\": 0,\n",
    "    \"Team_BFGM\": 0\n",
    "}\n",
    "\n",
    "NC3 = {\n",
    "    \"Team_AFGA\": 0,\n",
    "    \"Team_AFGM\": 0,\n",
    "    \"Team_BFGA\": 0,\n",
    "    \"Team_BFGM\": 0\n",
    "}\n"
   ]
  },
  {
   "cell_type": "code",
   "execution_count": 53,
   "metadata": {},
   "outputs": [],
   "source": [
    "\n",
    "for i in range(len(df.index)):\n",
    "    if(float(df.iloc[i][\"x\"]) > 22.0 or float(df.iloc[i][\"x\"]) < -22.0 and float(df.iloc[i][\"y\"]) < 7.8 and df.iloc[i][\"team\"] == \"Team A\"):\n",
    "        C3[\"Team_AFGA\"] += 1\n",
    "    elif(float(df.iloc[i][\"x\"]) > 22.0 or float(df.iloc[i][\"x\"]) < -22.0 and float(df.iloc[i][\"y\"]) < 7.8 and df.iloc[i][\"team\"] == \"Team A\" and df.iloc[i][\"fgmade\"] != 0):\n",
    "        C3[\"Team_AFGM\"] += 1\n",
    "    elif(float(df.iloc[i][\"x\"]) > 22.0 or float(df.iloc[i][\"x\"]) < -22.0 and float(df.iloc[i][\"y\"]) < 7.8 and df.iloc[i][\"team\"] == \"Team B\"):\n",
    "        C3[\"Team_BFGA\"] += 1\n",
    "    elif(float(df.iloc[i][\"x\"]) > 22.0 or float(df.iloc[i][\"x\"]) < -22.0 and float(df.iloc[i][\"y\"]) < 7.8 and df.iloc[i][\"team\"] == \"Team B\" and df.iloc[i][\"fgmade\"] == 1):\n",
    "        C3[\"Team_BFGM\"] += 1\n",
    "    elif(df.iloc[i]['x'] not in twopt['x'] and df.iloc[i]['y'] not in twopt['y'] and df.iloc[i][\"team\"] == \"Team A\" and float(df.iloc[i][\"y\"]) > 7.8):\n",
    "        NC3[\"Team_AFGA\"] += 1\n",
    "    elif(df.iloc[i]['x'] not in twopt['x'] and df.iloc[i]['y'] not in twopt['y'] and df.iloc[i][\"team\"] == \"Team A\" and float(df.iloc[i][\"y\"]) > 7.8 and df.iloc[i]['fgmade'] == 1):\n",
    "        NC3[\"Team_AFGM\"] += 1\n",
    "    elif(df.iloc[i]['x'] not in twopt['x'] and df.iloc[i]['y'] not in twopt['y'] and df.iloc[i][\"team\"] == \"Team B\" and float(df.iloc[i][\"y\"]) > 7.8):\n",
    "        C3[\"Team_BFGA\"] += 1\n",
    "    elif(df.iloc[i]['x'] not in twopt['x'] and df.iloc[i]['y'] not in twopt['y'] and df.iloc[i][\"team\"] == \"Team B\" and float(df.iloc[i][\"y\"]) > 7.8 and df.iloc[i]['fgmade'] == 1):\n",
    "        C3[\"Team_BFGM\"] += 1\n",
    "    elif(df.iloc[i]['x'] in twopt['x'] and df.iloc[i]['y'] in twopt['y'] and df.iloc[i][\"team\"] == \"Team A\"):\n",
    "        two_pointers_made[\"Team_AFGA\"] += 1\n",
    "    elif(df.iloc[i]['x'] in twopt['x'] and df.iloc[i]['y'] in twopt['y'] and df.iloc[i][\"team\"] == \"Team A\" and df.iloc[i][\"fgmade\"] != 0):\n",
    "        two_pointers_made[\"Team_AFGM\"] += 1\n",
    "    elif(df.iloc[i]['x'] in twopt['x'] and df.iloc[i]['y'] in twopt['y'] and df.iloc[i][\"team\"] == \"Team B\"):\n",
    "        two_pointers_made[\"Team_BFGA\"] += 1\n",
    "    else:\n",
    "        two_pointers_made[\"Team_BFGM\"] += 1"
   ]
  },
  {
   "cell_type": "code",
   "execution_count": 58,
   "metadata": {},
   "outputs": [
    {
     "name": "stderr",
     "output_type": "stream",
     "text": [
      "<>:2: SyntaxWarning: 'float' object is not callable; perhaps you missed a comma?\n",
      "<>:8: SyntaxWarning: 'float' object is not callable; perhaps you missed a comma?\n",
      "<ipython-input-58-fcd047dfce9c>:2: SyntaxWarning: 'float' object is not callable; perhaps you missed a comma?\n",
      "  efg = (fgm + 0.5(threepm)) / fga\n",
      "<ipython-input-58-fcd047dfce9c>:8: SyntaxWarning: 'float' object is not callable; perhaps you missed a comma?\n",
      "  tac3 = (C3[\"Team_AFGM\"] + 0.5(C3[\"Team_AFGM\"])) / C3[\"Team_AFGA\"]\n"
     ]
    },
    {
     "ename": "TypeError",
     "evalue": "'float' object is not callable",
     "output_type": "error",
     "traceback": [
      "\u001b[1;31m---------------------------------------------------------------------------\u001b[0m",
      "\u001b[1;31mTypeError\u001b[0m                                 Traceback (most recent call last)",
      "\u001b[1;32m<ipython-input-58-fcd047dfce9c>\u001b[0m in \u001b[0;36m<module>\u001b[1;34m\u001b[0m\n\u001b[0;32m      6\u001b[0m     \u001b[1;32mreturn\u001b[0m \u001b[0mtsa\u001b[0m\u001b[1;33m\u001b[0m\u001b[1;33m\u001b[0m\u001b[0m\n\u001b[0;32m      7\u001b[0m \u001b[1;33m\u001b[0m\u001b[0m\n\u001b[1;32m----> 8\u001b[1;33m \u001b[0mtac3\u001b[0m \u001b[1;33m=\u001b[0m \u001b[1;33m(\u001b[0m\u001b[0mC3\u001b[0m\u001b[1;33m[\u001b[0m\u001b[1;34m\"Team_AFGM\"\u001b[0m\u001b[1;33m]\u001b[0m \u001b[1;33m+\u001b[0m \u001b[1;36m0.5\u001b[0m\u001b[1;33m(\u001b[0m\u001b[0mC3\u001b[0m\u001b[1;33m[\u001b[0m\u001b[1;34m\"Team_AFGM\"\u001b[0m\u001b[1;33m]\u001b[0m\u001b[1;33m)\u001b[0m\u001b[1;33m)\u001b[0m \u001b[1;33m/\u001b[0m \u001b[0mC3\u001b[0m\u001b[1;33m[\u001b[0m\u001b[1;34m\"Team_AFGA\"\u001b[0m\u001b[1;33m]\u001b[0m\u001b[1;33m\u001b[0m\u001b[1;33m\u001b[0m\u001b[0m\n\u001b[0m",
      "\u001b[1;31mTypeError\u001b[0m: 'float' object is not callable"
     ]
    }
   ],
   "source": [
    "def EFG(fgm, threepm, fga):\n",
    "    efg = (fgm + 0.5(threepm)) / fga\n",
    "    return efg\n",
    "def TSA(fgaz, fga):\n",
    "    tsa = fgaz / fga\n",
    "    return tsa\n",
    "\n",
    "\n"
   ]
  }
 ],
 "metadata": {
  "kernelspec": {
   "display_name": "Python 3.9.7 ('base')",
   "language": "python",
   "name": "python3"
  },
  "language_info": {
   "codemirror_mode": {
    "name": "ipython",
    "version": 3
   },
   "file_extension": ".py",
   "mimetype": "text/x-python",
   "name": "python",
   "nbconvert_exporter": "python",
   "pygments_lexer": "ipython3",
   "version": "3.9.7"
  },
  "orig_nbformat": 4,
  "vscode": {
   "interpreter": {
    "hash": "64c20e9ba8d4155c19423a2e53b3e2a6536481533dde5fe93ad644f526f7c742"
   }
  }
 },
 "nbformat": 4,
 "nbformat_minor": 2
}
